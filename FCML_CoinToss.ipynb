{
  "nbformat": 4,
  "nbformat_minor": 0,
  "metadata": {
    "colab": {
      "name": "FCML CoinToss.ipynb",
      "provenance": [],
      "collapsed_sections": [],
      "authorship_tag": "ABX9TyMmZxoG2nZHkhf7LtKPQdAT",
      "include_colab_link": true
    },
    "kernelspec": {
      "name": "python3",
      "display_name": "Python 3"
    }
  },
  "cells": [
    {
      "cell_type": "markdown",
      "metadata": {
        "id": "view-in-github",
        "colab_type": "text"
      },
      "source": [
        "<a href=\"https://colab.research.google.com/github/amir1m/HelloFlask/blob/master/FCML_CoinToss.ipynb\" target=\"_parent\"><img src=\"https://colab.research.google.com/assets/colab-badge.svg\" alt=\"Open In Colab\"/></a>"
      ]
    },
    {
      "cell_type": "code",
      "metadata": {
        "id": "53uulA_a2uXp",
        "colab_type": "code",
        "colab": {}
      },
      "source": [
        "from scipy.special import comb\n",
        "import matplotlib.pyplot as plt\n",
        "import numpy as np\n"
      ],
      "execution_count": 0,
      "outputs": []
    },
    {
      "cell_type": "code",
      "metadata": {
        "id": "b628buD56URf",
        "colab_type": "code",
        "colab": {}
      },
      "source": [
        "def get_binomial_prob(N,y,r):\n",
        "  return (comb(N, y) * (r ** y) * (1 - r) ** (N - y) )\n"
      ],
      "execution_count": 0,
      "outputs": []
    },
    {
      "cell_type": "code",
      "metadata": {
        "id": "cQrb27M2-YNJ",
        "colab_type": "code",
        "colab": {}
      },
      "source": [
        "def get_binomial_prob_dist(N = 10,r = 0.5):\n",
        "  prob_y = []\n",
        "  for y in range(0,N+1,1):\n",
        "    prob_y.append(get_binomial_prob(N, y, r))\n",
        "  return prob_y"
      ],
      "execution_count": 0,
      "outputs": []
    },
    {
      "cell_type": "code",
      "metadata": {
        "id": "9fd6oA3UBTJo",
        "colab_type": "code",
        "colab": {}
      },
      "source": [
        "def plot_dist(prob_y):\n",
        "  N = len(prob_y)\n",
        "  plt.bar(range(0,N), prob_y)\n",
        "  plt.xticks(ticks=range(0,N))\n",
        "  plt.xlabel(\"y\")\n",
        "  plt.ylabel(\"P(y)\")\n",
        "  plt.plot(range(0,N), prob_y)\n"
      ],
      "execution_count": 0,
      "outputs": []
    },
    {
      "cell_type": "code",
      "metadata": {
        "id": "8ISNgSS-1QxF",
        "colab_type": "code",
        "colab": {
          "base_uri": "https://localhost:8080/",
          "height": 279
        },
        "outputId": "5310ac99-e45c-4ddf-e258-f159180ff039"
      },
      "source": [
        "plot_dist(get_binomial_prob_dist(N = 10, r = 0.5))"
      ],
      "execution_count": 12,
      "outputs": [
        {
          "output_type": "display_data",
          "data": {
            "image/png": "[encoded data removed]",
            "text/plain": [
              "<Figure size 432x288 with 1 Axes>"
            ]
          },
          "metadata": {
            "tags": [],
            "needs_background": "light"
          }
        }
      ]
    },
    {
      "cell_type": "code",
      "metadata": {
        "id": "aERAjuGlBJmY",
        "colab_type": "code",
        "colab": {
          "base_uri": "https://localhost:8080/",
          "height": 280
        },
        "outputId": "d3505a73-ae67-459e-f518-ae7310bf1c69"
      },
      "source": [
        "plot_dist(get_binomial_prob_dist(N = 10, r = 0.9))"
      ],
      "execution_count": 14,
      "outputs": [
        {
          "output_type": "display_data",
          "data": {
            "image/png": "[encoded data removed]",
            "text/plain": [
              "<Figure size 432x288 with 1 Axes>"
            ]
          },
          "metadata": {
            "tags": [],
            "needs_background": "light"
          }
        }
      ]
    },
    {
      "cell_type": "markdown",
      "metadata": {
        "id": "KATiqlnRJ2b1",
        "colab_type": "text"
      },
      "source": [
        "## Bayesian"
      ]
    },
    {
      "cell_type": "code",
      "metadata": {
        "id": "vlMCgNnhJ4Fk",
        "colab_type": "code",
        "colab": {
          "base_uri": "https://localhost:8080/",
          "height": 622
        },
        "outputId": "0004deb1-62e2-4beb-a6d7-cbbbb9106b00"
      },
      "source": [
        "N = 10\n",
        "Y_N = 6\n",
        "p_yn_given_r = []\n",
        "for r in np.arange(0,1, 0.1):\n",
        "  p_yn_given_r.append(get_binomial_prob(N, Y_N, r))\n",
        "plt.plot(np.arange(0,1, 0.1), p_yn_given_r, 'b')\n",
        "\n",
        "\n",
        "N = 100\n",
        "Y_N = 70\n",
        "p_yn_given_r = []\n",
        "for r in np.arange(0, 1, 0.1):\n",
        "  p_yn_given_r.append(get_binomial_prob(N, Y_N, r))\n",
        "  print(N, Y_N, r)\n",
        "  print(get_binomial_prob(N, Y_N, r))\n",
        "plt.plot(np.arange(0,1, 0.1), p_yn_given_r, 'r')"
      ],
      "execution_count": 42,
      "outputs": [
        {
          "output_type": "stream",
          "text": [
            "100 70 0.0\n",
            "0.0\n",
            "100 70 0.1\n",
            "1.2451275062913506e-46\n",
            "100 70 0.2\n",
            "4.29277227415243e-27\n",
            "100 70 0.30000000000000004\n",
            "1.6571719548824243e-16\n",
            "100 70 0.4\n",
            "9.050559931901567e-10\n",
            "100 70 0.5\n",
            "2.3170690580135177e-05\n",
            "100 70 0.6000000000000001\n",
            "0.010007504885761992\n",
            "100 70 0.7000000000000001\n",
            "0.08678386475342806\n",
            "100 70 0.8\n",
            "0.005189643239948639\n",
            "100 70 0.9\n",
            "1.8404083917652642e-08\n"
          ],
          "name": "stdout"
        },
        {
          "output_type": "execute_result",
          "data": {
            "text/plain": [
              "[<matplotlib.lines.Line2D at 0x7f7d81f7e320>]"
            ]
          },
          "metadata": {
            "tags": []
          },
          "execution_count": 42
        },
        {
          "output_type": "display_data",
          "data": {
            "image/png": "[encoded data removed]",
            "text/plain": [
              "<Figure size 432x288 with 1 Axes>"
            ]
          },
          "metadata": {
            "tags": [],
            "needs_background": "light"
          }
        }
      ]
    }
  ]
}